{
 "cells": [
  {
   "cell_type": "code",
   "execution_count": 1,
   "metadata": {},
   "outputs": [],
   "source": [
    "from math import sqrt\n",
    "import pandas as pd\n",
    "import numpy as np\n",
    "import matplotlib.pyplot as plt"
   ]
  },
  {
   "cell_type": "markdown",
   "metadata": {},
   "source": [
    "## 输入数据"
   ]
  },
  {
   "cell_type": "code",
   "execution_count": 2,
   "metadata": {
    "scrolled": true
   },
   "outputs": [],
   "source": [
    "data = pd.read_csv(\"SimilarityAnalysis.csv\")\n",
    "# print(data.shape) #输出尺寸\n",
    "# print(data) #输出csv文件内容\n",
    "target = data['Height_Manual']\n",
    "prediction = data['Height_Auto']\n",
    "x = target\n",
    "y = prediction"
   ]
  },
  {
   "cell_type": "markdown",
   "metadata": {},
   "source": [
    "### target和prediction误差平方和平均值"
   ]
  },
  {
   "cell_type": "code",
   "execution_count": 3,
   "metadata": {},
   "outputs": [],
   "source": [
    "error = []\n",
    "for i in range(len(target)):\n",
    "    error.append(target[i] - prediction[i])\n",
    " \n",
    "# print(\"Errors: \", error)\n",
    "# print(error)\n",
    "\n",
    "\n",
    "squaredError = []\n",
    "absError = []\n",
    "for val in error:\n",
    "    squaredError.append(val * val)#误差平方 \n",
    "    absError.append(abs(val))#误差绝对值\n",
    " \n",
    "# print(\"Square Error: \", squaredError)\n",
    "# print(\"Absolute Value of Error: \", absError)"
   ]
  },
  {
   "cell_type": "markdown",
   "metadata": {},
   "source": [
    "### target均值和偏差"
   ]
  },
  {
   "cell_type": "code",
   "execution_count": 4,
   "metadata": {},
   "outputs": [],
   "source": [
    "#target平均值\n",
    "targetMean = target.mean()\n",
    "# targetMean = sum(target) / len(target)\n",
    "\n",
    "#target偏差（和均值误差的和）\n",
    "targetDeviation = []\n",
    "for val in target:\n",
    "    targetDeviation.append((val - targetMean) * (val - targetMean))"
   ]
  },
  {
   "cell_type": "markdown",
   "metadata": {},
   "source": [
    "### prediction均值和偏差"
   ]
  },
  {
   "cell_type": "code",
   "execution_count": 5,
   "metadata": {},
   "outputs": [],
   "source": [
    "#prediction平均值\n",
    "predictionMean = prediction.mean()\n",
    "# predictionMean = sum(prediction) / len(prediction)\n",
    "\n",
    "#prediction偏差\n",
    "predictionDeviation = []\n",
    "for val in prediction:\n",
    "    predictionDeviation.append((val - predictionMean) * (val - predictionMean))"
   ]
  },
  {
   "cell_type": "markdown",
   "metadata": {},
   "source": [
    "### target标准差"
   ]
  },
  {
   "cell_type": "code",
   "execution_count": 6,
   "metadata": {},
   "outputs": [
    {
     "name": "stdout",
     "output_type": "stream",
     "text": [
      "样本标准差 =  50.48799866556947\n",
      "总体标准差 =  48.13841793350188\n"
     ]
    }
   ],
   "source": [
    "#样本标准差 sample standard deviation\n",
    "SSD = target.std()\n",
    "# SSD = sqrt(sum(targetDeviation) / (len(target)-1))\n",
    "print(\"样本标准差 = \", SSD)\n",
    "\n",
    "#总体标准差 opulation standard deviation\n",
    "OSD = sqrt(sum(targetDeviation) / len(target))\n",
    "print(\"总体标准差 = \", OSD)"
   ]
  },
  {
   "cell_type": "markdown",
   "metadata": {},
   "source": [
    "### prediction标准差"
   ]
  },
  {
   "cell_type": "code",
   "execution_count": 7,
   "metadata": {},
   "outputs": [
    {
     "name": "stdout",
     "output_type": "stream",
     "text": [
      "样本标准差 =  49.77767682094967\n",
      "总体标准差 =  47.461152628332975\n"
     ]
    }
   ],
   "source": [
    "#样本标准差 sample standard deviation\n",
    "SSD = prediction.std()\n",
    "# SSD = sqrt(sum(predictionDeviation) / (len(prediction)-1))\n",
    "print(\"样本标准差 = \", SSD)\n",
    "\n",
    "#总体标准差 opulation standard deviation\n",
    "OSD = sqrt(sum(predictionDeviation) / len(prediction))\n",
    "print(\"总体标准差 = \", OSD)"
   ]
  },
  {
   "cell_type": "markdown",
   "metadata": {},
   "source": [
    "### 方差"
   ]
  },
  {
   "cell_type": "code",
   "execution_count": 8,
   "metadata": {},
   "outputs": [
    {
     "name": "stdout",
     "output_type": "stream",
     "text": [
      "Target的方差 =  2317.307281140495\n",
      "Prediction的方差 =  2252.5610088099183\n"
     ]
    }
   ],
   "source": [
    "#方差target\n",
    "targetVariance = sum(targetDeviation) / len(targetDeviation)\n",
    "print(\"Target的方差 = \", targetVariance)\n",
    "\n",
    "#方差prediction\n",
    "predictionVariance = sum(predictionDeviation) / len(predictionDeviation)\n",
    "print(\"Prediction的方差 = \", predictionVariance)"
   ]
  },
  {
   "cell_type": "markdown",
   "metadata": {},
   "source": [
    "### 协方差"
   ]
  },
  {
   "cell_type": "code",
   "execution_count": 9,
   "metadata": {
    "scrolled": true
   },
   "outputs": [
    {
     "name": "stdout",
     "output_type": "stream",
     "text": [
      "2283.4801318760333\n"
     ]
    }
   ],
   "source": [
    "cov_xy = sum([(x - targetMean)*(y - predictionMean) for x,y in zip(target, prediction)])/ len(x)\n",
    "print(cov_xy)"
   ]
  },
  {
   "cell_type": "markdown",
   "metadata": {},
   "source": [
    "### 协方差矩阵"
   ]
  },
  {
   "cell_type": "code",
   "execution_count": 10,
   "metadata": {},
   "outputs": [
    {
     "name": "stdout",
     "output_type": "stream",
     "text": [
      "[[2549.03800925 2511.82814506]\n",
      " [2511.82814506 2477.81710969]]\n"
     ]
    }
   ],
   "source": [
    "# 计算协方差矩阵\n",
    "covxy = np.cov(x, y)\n",
    "print(covxy)"
   ]
  },
  {
   "cell_type": "markdown",
   "metadata": {},
   "source": [
    "### 相关系数"
   ]
  },
  {
   "cell_type": "code",
   "execution_count": 11,
   "metadata": {},
   "outputs": [
    {
     "name": "stdout",
     "output_type": "stream",
     "text": [
      "相关系数 =  0.9994639705961414\n"
     ]
    }
   ],
   "source": [
    "import math\n",
    "\n",
    "#相关系数concordance correlation\n",
    "#分子为协方差cov(x,y)\n",
    "#计算分母，方差乘积的均值\n",
    "sq = math.sqrt(sum([(x - targetMean)**2 for x in target])*sum([(x - predictionMean)**2 for x in prediction])) / len(x)\n",
    "#分子协方差除以分母\n",
    "corr_factor = cov_xy/sq\n",
    "print(\"相关系数 = \",corr_factor)"
   ]
  },
  {
   "cell_type": "markdown",
   "metadata": {},
   "source": [
    "### 一致性相关系数CCC"
   ]
  },
  {
   "cell_type": "code",
   "execution_count": 12,
   "metadata": {},
   "outputs": [
    {
     "name": "stdout",
     "output_type": "stream",
     "text": [
      "CCC =  0.998554553638644\n"
     ]
    }
   ],
   "source": [
    "#一致性相关系数CCC(concordance correlation coefficient)\n",
    "CCC = (2 * corr_factor * sqrt(targetVariance * predictionVariance))/ (targetVariance + predictionVariance + (targetMean-predictionMean)**2)\n",
    "print(\"CCC = \",CCC)       "
   ]
  },
  {
   "cell_type": "markdown",
   "metadata": {},
   "source": [
    "### 均方误差MSE、均方根误差RMSE、平均绝对误差MAE"
   ]
  },
  {
   "cell_type": "code",
   "execution_count": 13,
   "metadata": {},
   "outputs": [
    {
     "name": "stdout",
     "output_type": "stream",
     "text": [
      "均方误差MSE =  6.610851727272709\n",
      "均方根误差RMSE =  2.571157662857863\n",
      "平均绝对误差MAE =  2.065909090909085\n"
     ]
    }
   ],
   "source": [
    "#均方误差MSE\n",
    "MSE = sum(squaredError) / len(squaredError)\n",
    "print(\"均方误差MSE = \", MSE)\n",
    "\n",
    "#均方根误差RMSE\n",
    "RMSE = sqrt(sum(squaredError) / len(squaredError))\n",
    "print(\"均方根误差RMSE = \", RMSE)\n",
    "\n",
    "#平均绝对误差MAE\n",
    "MAE = sum(absError) / len(absError)\n",
    "print(\"平均绝对误差MAE = \", MAE)"
   ]
  },
  {
   "cell_type": "markdown",
   "metadata": {},
   "source": [
    "## 绘制散点图"
   ]
  },
  {
   "cell_type": "code",
   "execution_count": 14,
   "metadata": {},
   "outputs": [],
   "source": [
    "import matplotlib.pyplot as plt\n",
    "import numpy as np"
   ]
  },
  {
   "cell_type": "code",
   "execution_count": 15,
   "metadata": {},
   "outputs": [
    {
     "name": "stdout",
     "output_type": "stream",
     "text": [
      "0.9989282285198045\n",
      " \n",
      "0.9854 x + 3.835\n",
      "RMSE =  2.571157662857863\n",
      "CCC =  0.998554553638644\n"
     ]
    },
    {
     "data": {
      "image/png": "[encoded data removed]",
      "text/plain": [
       "<Figure size 432x288 with 1 Axes>"
      ]
     },
     "metadata": {
      "needs_background": "light"
     },
     "output_type": "display_data"
    }
   ],
   "source": [
    "a=[target,prediction]\n",
    "mcy=pd.DataFrame({'x_axis1': target,'y_axis1': prediction})\n",
    "\n",
    "fig,ax=plt.subplots()\n",
    "# 散点图\n",
    "ax.scatter(target,prediction,color='black')\n",
    "\n",
    "# 用polyfit函数来把这些点拟合成一条1次曲线\n",
    "parameter = np.polyfit(x, y, 1)\n",
    "p = np.poly1d(parameter)\n",
    "plt.plot(x, p(x), color='r')\n",
    "\n",
    "# 直线图\n",
    "X = np.arange(70,210)\n",
    "Y = X\n",
    "ax.plot(X, Y)\n",
    "ax.set(xlabel='Manual measurement / mm',ylabel='Automated measurement / mm',title='Height')\n",
    "# ax.text(90, 180, \"CCC=0.985028\",fontsize=10, color = \"black\", style = \"italic\", weight = \"light\", verticalalignment='center', horizontalalignment='right', rotation=0)\n",
    "# plt.show()\n",
    "# for i in range(len(Length_Manual)):\n",
    "#     ax.text(people_flow[i]*1.01, confirm[i]*1.01, city_name[i], fontsize=10, color = \"r\", style = \"italic\", weight = \"light\", verticalalignment='center', horizontalalignment='right',rotation=0) #给散点加标签\n",
    "\n",
    "\n",
    "# 利用相关系数矩阵计算R方\n",
    "correlation = np.corrcoef(x, y)[0,1]  #相关系数\n",
    "Rfang=correlation**2   #R方\n",
    "print(Rfang)\n",
    "p = np.poly1d(parameter,variable='x')\n",
    "print(p)\n",
    "print(\"RMSE = \", RMSE)\n",
    "print(\"CCC = \",CCC) \n"
   ]
  }
 ],
 "metadata": {
  "kernelspec": {
   "display_name": "Python 3",
   "language": "python",
   "name": "python3"
  },
  "language_info": {
   "codemirror_mode": {
    "name": "ipython",
    "version": 3
   },
   "file_extension": ".py",
   "mimetype": "text/x-python",
   "name": "python",
   "nbconvert_exporter": "python",
   "pygments_lexer": "ipython3",
   "version": "3.7.9"
  }
 },
 "nbformat": 4,
 "nbformat_minor": 4
}
